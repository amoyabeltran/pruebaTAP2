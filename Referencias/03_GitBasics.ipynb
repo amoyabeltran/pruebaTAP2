{
 "cells": [
  {
   "cell_type": "markdown",
   "metadata": {
    "cell_id": "00000-86a87cc1-b61c-491a-b481-063b71fdd811",
    "deepnote_cell_type": "markdown",
    "slideshow": {
     "slide_type": "slide"
    }
   },
   "source": [
    "# Tutorial Básico de Git\n"
   ]
  },
  {
   "cell_type": "markdown",
   "metadata": {
    "cell_id": "00005-34a5fa37-2458-4f45-946d-96018790c527",
    "deepnote_cell_type": "markdown",
    "slideshow": {
     "slide_type": "slide"
    }
   },
   "source": [
    "## Git bash\n",
    "\n",
    "Si tienes windows isntala desde [git bash](https://gitforwindows.org). En linux o Mac abre la terminal y realiza los siguientes comandos:\n",
    "\n",
    "```bash\n",
    "sudo apt update\n",
    "sudo apt install git-all\n",
    "```\n",
    "\n",
    "[Otras formas de instalar](https://git-scm.com/book/en/v2/Getting-Started-Installing-Git)\n",
    "\n",
    "```bash\n",
    "git --version\n",
    "```"
   ]
  },
  {
   "cell_type": "markdown",
   "metadata": {
    "cell_id": "00007-8994478a-31e7-4ed2-83fe-5b880a6ac17b",
    "deepnote_cell_type": "markdown",
    "slideshow": {
     "slide_type": "slide"
    }
   },
   "source": [
    "## Configure Git\n",
    "\n",
    "La configuración se guarda en la computadora para todos sus repositorios de git.\n",
    "\n",
    "```bash\n",
    "$ git config --global user.name \"amoyabeltran\"\n",
    "$ git config --global user.email \"ana.moyabeltran@gmail.com\"\n",
    "$ git config --list\n",
    "```\n",
    "---"
   ]
  },
  {
   "cell_type": "markdown",
   "metadata": {
    "cell_id": "00008-ee28a767-a92f-441f-ae45-489587e8695e",
    "deepnote_cell_type": "markdown",
    "slideshow": {
     "slide_type": "slide"
    }
   },
   "source": [
    "## Inicializar un repositorio git \n",
    "\n",
    "Crear un directorio `homepage`:\n",
    "\n",
    "```bash\n",
    "$ mkdir homepage                          # Create directory homepage\n",
    "$ cd homepage                             # Change directory\n",
    "$ touch index.md                          # Create the index.md file\n",
    "$ echo \"# README \" >> index.md        # Write the string \"# Test\" in index.md\n",
    "$ echo \"Prueba directorio\" >> index.md               # Append Rennes to index.md\n",
    "$ cat index.md                            # Display index.md content\n",
    "```"
   ]
  },
  {
   "cell_type": "markdown",
   "metadata": {
    "cell_id": "00009-516f4b4d-52c8-424d-8ce4-82002b261e0a",
    "deepnote_cell_type": "markdown",
    "slideshow": {
     "slide_type": "slide"
    }
   },
   "source": [
    "Usar git en este repositorio\n",
    "\n",
    "```bash\n",
    "$ git init\n",
    "Initialized empty Git repository in /home/amoyabeltran/Documents/Github/TecnicasAvanzadasCourse/Clase2/homepage/.git/\n",
    "\n",
    "$ git status\n",
    "On branch master\n",
    "\n",
    "No commits yet\n",
    "\n",
    "Untracked files:\n",
    "  (use \"git add <file>...\" to include in what will be committed)\n",
    "\tindex.md\n",
    "\n",
    "nothing added to commit but untracked files present (use \"git add\" to track)\n",
    "```"
   ]
  },
  {
   "cell_type": "markdown",
   "metadata": {
    "cell_id": "00010-6aa06cb7-2880-4efe-8c7d-8868ecacb2c2",
    "deepnote_cell_type": "markdown",
    "slideshow": {
     "slide_type": "slide"
    }
   },
   "source": [
    "### Agregar el archivo al índice de git\n",
    "\n",
    "```bash\n",
    "$ git add index.md\n",
    "$ git status\n",
    "On branch master\n",
    "\n",
    "No commits yet\n",
    "\n",
    "Changes to be committed:\n",
    "  (use \"git rm --cached <file>...\" to unstage)\n",
    "\tnew file:   index.md\n",
    "```"
   ]
  },
  {
   "cell_type": "markdown",
   "metadata": {
    "cell_id": "00011-3d8c74b6-338c-4a66-825c-31c7ed30ea16",
    "deepnote_cell_type": "markdown",
    "slideshow": {
     "slide_type": "slide"
    }
   },
   "source": [
    "## Commit\n",
    "\n",
    "```bash\n",
    "$ git commit -m 'Create the file index.md'\n",
    "[master (root-commit) 63a5cee] Create the file index.md\n",
    " 1 file changed, 2 insertions(+)\n",
    " create mode 100644 index.md\n",
    "```\n",
    " \n",
    "```bash\n",
    "$ git status\n",
    "On branch master\n",
    "nothing to commit, working tree clean\n",
    "```"
   ]
  },
  {
   "cell_type": "markdown",
   "metadata": {
    "cell_id": "00013-5f301458-1b8a-4319-a807-f9a0b820930d",
    "deepnote_cell_type": "markdown",
    "slideshow": {
     "slide_type": "slide"
    }
   },
   "source": [
    "## Cuenta Github y clave SSH\n",
    "\n",
    "[Create your GitHub account](https://github.com/join)\n",
    "\n",
    "### Generar par de claves rsa pública/privada.\n",
    "\n",
    "Ref : [New ssh key on GitHub](https://docs.github.com/en/github/authenticating-to-github/generating-a-new-ssh-key-and-adding-it-to-the-ssh-agent)\n",
    "\n",
    "Open Terminal or Git bash.\n",
    "\n",
    "Paste the text below, substituting in your GitHub email address.\n",
    "```bash\n",
    "ssh-keygen -t rsa -b 4096 -C \"ana.moyabeltran@gmail.com\"\n",
    "```\n",
    "This creates a new ssh key, using the provided email as a label."
   ]
  },
  {
   "cell_type": "markdown",
   "metadata": {
    "cell_id": "00014-6da0c352-9c92-439c-ab5d-41c083326fe0",
    "deepnote_cell_type": "markdown",
    "slideshow": {
     "slide_type": "slide"
    }
   },
   "source": [
    "When you're prompted to \"Enter a file in which to save the key,\" press Enter. This accepts the default file location. Enter a file in which to save the key (/Users/you/.ssh/id_rsa): [Press enter]\n",
    "At the prompt, let it empty for no passphrase.\n",
    "\n",
    "This creates 2 files, the private key: `id_rsa`, and the public key `id_rsa.pub`. Display and copy the SSH key to your clipboard.\n",
    "\n",
    "```bash\n",
    "cat ~/.ssh/id_rsa.pub\n",
    "```\n",
    "\n",
    "In the upper-right corner of any page, click your profile photo, then click `Settings`.\n",
    "In the user settings sidebar, click `SSH and GPG keys`.  Click `New SSH key` or `Add SSH key`."
   ]
  },
  {
   "cell_type": "markdown",
   "metadata": {
    "cell_id": "00015-750383f2-c97c-4438-8d01-93e3a0c5a761",
    "deepnote_cell_type": "markdown",
    "slideshow": {
     "slide_type": "slide"
    }
   },
   "source": [
    "## GitHub repository\n",
    "\n",
    "<font color=\"red\">In the following steps replace **your_login** by your own GitHub login</font>\n",
    "\n",
    "#Ir a la pagian para el practico\n",
    "Create the `your_login.github.io` repository on your GitHub account\n",
    "- Click on '+' on top right of the page and select \"New repository\"\n",
    "- Repository name = \"prueba1\"\n",
    "- Don't change default options\n",
    "- Click on \"Create repository\"\n",
    "\n",
    "\n",
    "\n",
    "```bash\n",
    "$ cd homepage\n",
    "$ git remote add origin git remote add origin https://github.com/amoyabeltran/prueba1.git\n",
    "$ git push -u origin master\n",
    "Enumerating objects: 3, done.\n",
    "Counting objects: 100% (3/3), done.\n",
    "Writing objects: 100% (3/3), 235 bytes | 235.00 KiB/s, done.\n",
    "Total 3 (delta 0), reused 0 (delta 0), pack-reused 0\n",
    "remote: \n",
    "remote: Create a pull request for 'master' on GitHub by visiting:\n",
    "remote:      https://github.com/amoyabeltran/prueba1/pull/new/master\n",
    "remote: \n",
    "To https://github.com/amoyabeltran/prueba1.git\n",
    " * [new branch]      master -> master\n",
    "Branch 'master' set up to track remote branch 'master' from 'origin'.\n",
    "```\n",
    "\n",
    "```bash\n",
    "$ git status\n",
    "On branch master\n",
    "nothing to commit, working tree clean\n",
    "```"
   ]
  },
  {
   "cell_type": "markdown",
   "metadata": {
    "cell_id": "00019-f4f59942-bd75-4557-ab1f-f18fd4f9f5a3",
    "deepnote_cell_type": "markdown"
   },
   "source": [
    "## Exercise\n",
    "\n",
    "Check the web page by visiting <https://your_login.github.io>\n",
    "\n",
    "Modify the file index.md and do the procedure again. Modify also the file `_config.yml` by appending the following content:\n",
    "\n",
    "```yaml\n",
    "title: Page personnelle\n",
    "description: Exercice Git\n",
    "```"
   ]
  },
  {
   "cell_type": "markdown",
   "metadata": {
    "cell_id": "00020-ddf3f088-c3cd-4b10-88b1-7eb9be5577b1",
    "deepnote_cell_type": "markdown",
    "slideshow": {
     "slide_type": "slide"
    }
   },
   "source": [
    "## Branches\n",
    "\n",
    "**Display all branches**\n",
    "\n",
    "```bash\n",
    "$ git branch -a\n",
    "* master\n",
    "  remotes/origin/master\n",
    "```"
   ]
  },
  {
   "cell_type": "markdown",
   "metadata": {
    "cell_id": "00021-d366c97b-3ab5-48f1-8c23-6710c2b0ca2c",
    "deepnote_cell_type": "markdown",
    "slideshow": {
     "slide_type": "slide"
    }
   },
   "source": [
    "## Create a new branch\n",
    "\n",
    "By creating a new branch you freeze the master branch and you can continue to work without modifying it.\n",
    "The branch created is the copy of the current branch (master).\n",
    "\n",
    "```bash\n",
    "$ git branch mybranch\n",
    "$ git checkout mybranch\n",
    "Switched to branch 'mybranch'\n",
    "```\n",
    "\n",
    "```bash\n",
    "$ git branch\n",
    "master\n",
    "* mybranch\n",
    "```\n",
    "\n",
    "Files could be different or not existing in two branches but they are located at the same place on the file system. When you use the `checkout` command, git applies the changes."
   ]
  },
  {
   "cell_type": "markdown",
   "metadata": {
    "cell_id": "00022-9a3e82fc-466c-4fc0-aeef-c8f9fb5f03cd",
    "deepnote_cell_type": "markdown",
    "slideshow": {
     "slide_type": "slide"
    }
   },
   "source": [
    "## Edit and modify the index.md file\n",
    "\n",
    "```bash\n",
    "$ echo '![logo](https://intranet.univ-rennes2.fr/sites/default/files/resize/UHB/SERVICE-COMMUNICATION/logor2-noir-150x147.png)' >> index.md\n",
    "$ git status\n",
    "On branch mybranch\n",
    "Changes not staged for commit:\n",
    "  (use \"git add <file>...\" to update what will be committed)\n",
    "  (use \"git restore <file>...\" to discard changes in working directory)\n",
    "\tmodified:   index.md\n",
    "\n",
    "no changes added to commit (use \"git add\" and/or \"git commit -a\")\n",
    "```\n",
    "\n",
    "```bash\n",
    "$ git diff\n",
    "diff --git a/index.md b/index.md\n",
    "index 87dde03..af6739c 100644\n",
    "--- a/index.md\n",
    "+++ b/index.md\n",
    "@@ -3,3 +3,4 @@\n",
    "\n",
    "+![logo](https://intranet.univ-rennes2.fr/sites/default/files/resize/UHB/SERVICE-COMMUNICATION/logor2-noir-150x147.png)\n",
    "```"
   ]
  },
  {
   "cell_type": "markdown",
   "metadata": {
    "cell_id": "00023-0ffa53c9-bb93-4fbb-adc0-d737da2521da",
    "deepnote_cell_type": "markdown",
    "slideshow": {
     "slide_type": "slide"
    }
   },
   "source": [
    "## Commit the changes\n",
    "\n",
    "```bash\n",
    "$ git add index.md\n",
    "$ git status\n",
    "On branch mybranch\n",
    "Changes to be committed:\n",
    "  (use \"git restore --staged <file>...\" to unstage)\n",
    "\tmodified:   index.md\n",
    "```\n",
    "\n",
    "```bash\n",
    "$ git commit -m 'Add logo'\n",
    "[mybranch 30a8912] Add logo\n",
    " 1 file changed, 1 insertion(+)\n",
    "```"
   ]
  },
  {
   "cell_type": "markdown",
   "metadata": {
    "cell_id": "00024-68a34073-acdc-464d-95a8-757e5309d388",
    "deepnote_cell_type": "markdown",
    "slideshow": {
     "slide_type": "slide"
    }
   },
   "source": []
  },
  {
   "cell_type": "markdown",
   "metadata": {
    "cell_id": "00025-d611e60b-71cd-42d2-9a61-45e45aac97f2",
    "deepnote_cell_type": "markdown",
    "slideshow": {
     "slide_type": "slide"
    }
   },
   "source": [
    "## Merge mybranch with the master branch\n",
    "\n",
    "\n",
    "```bash\n",
    "$ git diff master\n",
    "diff --git a/index.md b/index.md\n",
    "index c744020..4d833d1 100644\n",
    "--- a/index.md\n",
    "+++ b/index.md\n",
    "@@ -1,2 +1,3 @@\n",
    " # Prenom Nom\n",
    " Rennes\n",
    "+![logo](https://intranet.univ-rennes2.fr/sites/default/files/resize/UHB/SERVICE-COMMUNICATION/logor2-noir-150x147.png)\n",
    "```"
   ]
  },
  {
   "cell_type": "markdown",
   "metadata": {
    "cell_id": "00026-65167197-057e-4e86-ab5b-c620c9cea931",
    "deepnote_cell_type": "markdown",
    "slideshow": {
     "slide_type": "slide"
    }
   },
   "source": [
    "## Push master branch\n",
    "\n",
    "```bash\n",
    "$ git checkout master\n",
    "Switched to branch 'master'\n",
    "$ git merge mybranch\n",
    "Updating 63a5cee..30a8912\n",
    "Fast-forward\n",
    " index.md | 1 +\n",
    " 1 file changed, 1 insertion(+)\n",
    "$ git push origin master\n",
    "Enumerating objects: 9, done.\n",
    "Counting objects: 100% (9/9), done.\n",
    "Delta compression using up to 4 threads\n",
    "Compressing objects: 100% (5/5), done.\n",
    "Writing objects: 100% (8/8), 869 bytes | 869.00 KiB/s, done.\n",
    "Total 8 (delta 1), reused 0 (delta 0), pack-reused 0\n",
    "remote: Resolving deltas: 100% (1/1), completed with 1 local object.\n",
    "To github.com:your_login/your_login.github.io.git\n",
    "   6dafcbd..340d3dc  master -> master\n",
    "```"
   ]
  },
  {
   "cell_type": "markdown",
   "metadata": {
    "cell_id": "00028-e63adb78-a85a-4cfa-bf85-33e56c2b62d7",
    "deepnote_cell_type": "markdown",
    "slideshow": {
     "slide_type": "slide"
    }
   },
   "source": [
    "## Clone the remote repository\n",
    "\n",
    "```bash\n",
    "git clone ssh://svmass2/git/atelier_git.git\n",
    "```\n",
    "or\n",
    "```bash\n",
    "git clone git@github.com:MMASSD/atelier_git.git\n",
    "```"
   ]
  },
  {
   "cell_type": "markdown",
   "metadata": {
    "cell_id": "00029-e40508f5-4c37-4724-a65b-eeb58e32d2f6",
    "deepnote_cell_type": "markdown",
    "slideshow": {
     "slide_type": "slide"
    }
   },
   "source": [
    "## Share your modifications\n",
    "\n",
    "### Option 1 : merge master branch and push it\n",
    "\n",
    "```bash\n",
    "$ git checkout master\n",
    "$ git merge mybranch\n",
    "$ git push origin master\n",
    "```\n",
    "\n",
    "### Option 2 : Push your branch \n",
    "\n",
    "```bash\n",
    "$ git checkout mybranch\n",
    "$ git push origin mybranch\n",
    "```"
   ]
  },
  {
   "cell_type": "markdown",
   "metadata": {
    "attributes": {
     "classes": [
      "git"
     ],
     "id": ""
    },
    "cell_id": "00030-f63bdea5-cb80-48ff-8737-01788ea37dec",
    "deepnote_cell_type": "markdown",
    "slideshow": {
     "slide_type": "slide"
    }
   },
   "source": [
    "## Synchronize the repository\n",
    "\n",
    "### Update master branch\n",
    "\n",
    "```bash\n",
    "$ git checkout master\n",
    "```\n",
    "\n",
    "You can use `pull` which is a `fetch and merge` command\n",
    "\n",
    "```bash\n",
    "$ git pull origin master\n",
    "```\n",
    "`origin` is the repository and `master` the **remote** branch from you want to update."
   ]
  },
  {
   "cell_type": "markdown",
   "metadata": {
    "attributes": {
     "classes": [
      "git"
     ],
     "id": ""
    },
    "cell_id": "00031-db1c0263-a05d-4699-9200-6597d20c897a",
    "deepnote_cell_type": "markdown",
    "jp-MarkdownHeadingCollapsed": true,
    "slideshow": {
     "slide_type": "slide"
    }
   },
   "source": [
    "In some cases, it could be safer to check the differences between your local and the remote branch with\n",
    "\n",
    "```bash\n",
    "$ git fetch origin\n",
    "$ git diff origin/master\n",
    "```\n",
    "and merge\n",
    "```bash\n",
    "$ git merge origin master\n",
    "```\n",
    "\n",
    "### Update personal branch\n",
    "\n",
    "```bash\n",
    "$ git checkout mybranch\n",
    "$ git merge master\n",
    "```"
   ]
  },
  {
   "cell_type": "markdown",
   "metadata": {
    "cell_id": "00041-633cc3b3-122c-4b9c-acfc-1bc17096aba0",
    "deepnote_cell_type": "markdown",
    "slideshow": {
     "slide_type": "slide"
    }
   },
   "source": [
    "## Some useful commands\n",
    "\n",
    "- Showing which files have changed between git branches\n",
    "\n",
    "```\n",
    "$ git diff --name-status master..mybranch\n",
    "```\n",
    "- Compare the master version of a file to my current branch version\n",
    "\n",
    "```\n",
    "$ git diff mybranch master -- myfile\n",
    "```\n",
    "\n",
    "- Remove all ignored files (do it after a commit)\n",
    "\n",
    "```\n",
    "$ git clean -xdf\n",
    "```"
   ]
  },
  {
   "cell_type": "markdown",
   "metadata": {},
   "source": [
    "# Crear el repositorio en la nube directamente desde mi maquina\n",
    "\n",
    "```bash\n",
    "sudo apt update\n",
    "sudo apt install gh\n",
    "```\n",
    "# autenticarse\n",
    "```bash\n",
    "gh auth login\n",
    "```"
   ]
  },
  {
   "cell_type": "markdown",
   "metadata": {},
   "source": [
    "# Comandos básicos\n",
    "\n",
    "| **Comando**    | **Descripción**                                                  | **Uso común**                    | **Parámetros útiles / Ejemplo**                                     |\n",
    "| -------------- | ---------------------------------------------------------------- | -------------------------------- | ------------------------------------------------------------------- |\n",
    "| `git init`     | Inicializa un nuevo repositorio local de Git                     | Crear repositorio desde cero     | `git init`                                                          |\n",
    "| `git clone`    | Clona un repositorio remoto a tu máquina local                   | Obtener código desde GitHub      | `git clone https://github.com/user/repo.git`                        |\n",
    "| `git status`   | Muestra el estado de los archivos en el directorio de trabajo    | Ver qué ha cambiado              | `git status`                                                        |\n",
    "| `git add`      | Añade archivos al *staging area*                                 | Preparar archivos para commit    | `git add archivo.txt`, `git add .` (todos los archivos modificados) |\n",
    "| `git commit`   | Guarda los cambios en el historial del repositorio               | Crear un punto de control        | `git commit -m \"Mensaje del commit\"`                                |\n",
    "| `git log`      | Muestra el historial de commits                                  | Revisar historial                | `git log --oneline`, `git log --graph`                              |\n",
    "| `git diff`     | Muestra los cambios entre archivos sin commitear                 | Ver diferencias antes del commit | `git diff`, `git diff archivo.txt`                                  |\n",
    "| `git branch`   | Muestra, crea o elimina ramas                                    | Ver o gestionar ramas            | `git branch`, `git branch nueva-rama`                               |\n",
    "| `git checkout` | Cambia de rama o restaura archivos                               | Cambiar de rama                  | `git checkout main`, `git checkout -b nueva-rama`                   |\n",
    "| `git merge`    | Combina una rama con otra                                        | Unir desarrollo de ramas         | `git merge rama-secundaria`                                         |\n",
    "| `git remote`   | Gestiona conexiones a repositorios remotos                       | Ver o agregar remotos            | `git remote -v`, `git remote add origin <url>`                      |\n",
    "| `git push`     | Sube tus commits al repositorio remoto                           | Publicar cambios                 | `git push origin main`, `git push -u origin nombre-rama`            |\n",
    "| `git pull`     | Descarga y fusiona los últimos cambios del remoto                | Sincronizar con GitHub           | `git pull origin main`                                              |\n",
    "| `git fetch`    | Descarga cambios del remoto, pero no los fusiona automáticamente | Obtener sin mezclar cambios      | `git fetch origin`                                                  |\n",
    "| `git reset`    | Deshace commits o saca archivos del *staging*                    | Corregir errores                 | `git reset HEAD archivo.txt`, `git reset --hard <hash>`             |\n",
    "| `git stash`    | Guarda cambios temporales sin hacer commit                       | Guardar trabajo temporal         | `git stash`, `git stash pop`                                        |\n",
    "| `git rebase`   | Reaplica commits sobre otra base                                 | Reescribir historial limpio      | `git rebase main`                                                   |\n",
    "| `git config`   | Configura opciones de Git                                        | Definir usuario, editor, etc.    | `git config --global user.name \"Ana\"`, `git config --list`          |\n",
    "| `git tag`      | Crea puntos de referencia (releases)                             | Marcar versiones                 | `git tag v1.0`, `git tag -a v1.0 -m \"Release 1.0\"`                  |\n",
    "| `git rm`       | Elimina archivos y los marca para el commit                      | Borrar archivos del repo         | `git rm archivo.txt`                                                |\n"
   ]
  },
  {
   "cell_type": "markdown",
   "metadata": {},
   "source": [
    "### Notas \n",
    "\n",
    "- El flujo más común es:\n",
    "  ```bash\n",
    "  git add .\n",
    "  git commit -m \"Mensaje descriptivo\"\n",
    "  git push origin master\n",
    "  ```\n",
    "\n",
    "- `git fetch` es más seguro que `git pull` porque:\n",
    "  - **`fetch`** solo descarga los cambios del remoto sin fusionarlos.\n",
    "  - **`pull`** descarga **y fusiona automáticamente**, lo cual puede causar conflictos si no estás sincronizada.\n",
    "\n",
    "- Puedes ver las ramas remotas con:\n",
    "  ```bash\n",
    "  git branch -r\n",
    "  ```\n",
    "\n",
    "- Para ver todas las ramas (locales y remotas):\n",
    "  ```bash\n",
    "  git branch -a\n",
    "  ```\n",
    "\n",
    "- Para ver una vista compacta del historial de commits:\n",
    "  ```bash\n",
    "  git log --oneline --graph --all\n",
    "  ```\n",
    "\n",
    "- Para deshacer un `add` antes de hacer `commit`:\n",
    "  ```bash\n",
    "  git reset archivo.txt\n",
    "  ```\n",
    "\n",
    "- Para eliminar todos los cambios no guardados y restaurar el último commit:\n",
    "  ```bash\n",
    "  git reset --hard\n",
    "  ```\n",
    "\n",
    "- Para guardar cambios sin commitear y poder volver a ellos luego:\n",
    "  ```bash\n",
    "  git stash\n",
    "  git stash pop\n",
    "  ```\n",
    "\n",
    "---\n",
    "\n",
    "### (Opcional) Cambiar de `master` a `main`\n",
    "\n",
    "> Solo si deseas estandarizar tu flujo de trabajo a `main`.\n",
    "\n",
    "```bash\n",
    "git branch -m master main\n",
    "git push origin -u main\n",
    "gh repo edit --default-branch main\n",
    "git push origin --delete master\n",
    "```"
   ]
  },
  {
   "cell_type": "markdown",
   "metadata": {},
   "source": [
    "### Ramas remotas"
   ]
  },
  {
   "cell_type": "markdown",
   "metadata": {},
   "source": [
    "| Característica | Ramas Locales                   | Ramas Remotas                                          |\n",
    "| -------------- | ------------------------------- | ------------------------------------------------------ |\n",
    "| Ubicación      | En tu máquina local             | En GitHub (o Bitbucket, GitLab, etc.)                  |\n",
    "| Acceso directo | Puedes modificar, crear, borrar | Solo lectura local, actualización vía `fetch` o `pull` |\n",
    "| Se crean con   | `git branch nombre`             | `git push origin nombre`                               |\n",
    "| Se ven con     | `git branch`                    | `git branch -r`                                        |\n",
    "| Nombre típico  | `master`, `main`, `dev`, etc.   | `origin/master`, `origin/dev`, etc.                    |\n"
   ]
  },
  {
   "cell_type": "markdown",
   "metadata": {},
   "source": [
    "# Tutorial subir repositorio local mediante terminal.\n",
    "\n",
    "\n",
    "### Crear carpteas y archivos locales\n",
    "```bash\n",
    "mkdir pruebaTAP3\n",
    "cd pruebaTAP3\n",
    "```\n",
    "\n",
    "Crear un archivo \n",
    "\n",
    "```bash\n",
    "echo \"# README TAP3\" > README.md\n",
    "```\n",
    "\n",
    "Inicializar git y hacer primer commit:\n",
    "\n",
    "```bash\n",
    "git init\n",
    "git add .\n",
    "git commit -m \"prueba TAP3 de primer cambio\"\n",
    "```\n",
    "\n",
    "### Crear repositorio en GitHub \n",
    "\n",
    "```bash\n",
    "gh repo create mi_proyecto --private --source=. --remote=origin --push\n",
    "```\n",
    "\n",
    "\n",
    "> Dependiendo de si quieres que sea publico o privado `--public` en vez de `--private` si deseas que sea visible públicamente.\n",
    "\n",
    "#### Con esto hacemos lo siguiente: crear el repositorio en GitHub, agregamos el remoto origin., hacemos push del contenido local.\n",
    "---\n",
    "\n",
    "### Verificación\n",
    "\n",
    "```bash\n",
    "git status\n",
    "git remote -v\n",
    "```\n",
    "\n",
    "### Para lo anterior requerimos (Ver los pasos de este archivo más arriba)\n",
    "\n",
    "- Git instalado (`sudo apt install git`)\n",
    "- GitHub CLI (`gh`) instalado (`sudo apt install gh`)\n",
    "- Estar autenticada con `gh auth login`\n",
    "\n",
    "\n"
   ]
  }
 ],
 "metadata": {
  "deepnote_execution_queue": [],
  "deepnote_notebook_id": "12fba9d0-e36e-41e4-86ea-24ea245bb5ef",
  "kernelspec": {
   "display_name": "Python 3 (ipykernel)",
   "language": "python",
   "name": "python3"
  },
  "language_info": {
   "codemirror_mode": {
    "name": "ipython",
    "version": 3
   },
   "file_extension": ".py",
   "mimetype": "text/x-python",
   "name": "python",
   "nbconvert_exporter": "python",
   "pygments_lexer": "ipython3",
   "version": "3.10.12"
  }
 },
 "nbformat": 4,
 "nbformat_minor": 4
}
